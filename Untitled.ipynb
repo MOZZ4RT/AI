{
 "cells": [
  {
   "cell_type": "code",
   "execution_count": null,
   "id": "ed2864bd-7b39-40bb-92ab-46fb287d5a82",
   "metadata": {
    "tags": []
   },
   "outputs": [],
   "source": [
    "from collections import defaultdict\n",
    "\n",
    "# BFS recursive function\n",
    "def BFS(graph, queue, visited):\n",
    "    if not queue:\n",
    "        return\n",
    "    node = queue.pop(0)\n",
    "    if not visited[node]:\n",
    "        visited[node] = True\n",
    "        print(node, end=' ')\n",
    "        for neighbor in graph[node]:\n",
    "            queue.append(neighbor)\n",
    "    BFS(graph, queue, visited)\n",
    "\n",
    "# Initialize graph and input number of nodes\n",
    "graph = defaultdict(list)\n",
    "n = int(input(\"Enter number of nodes: \"))\n",
    "\n",
    "# Input values at nodes\n",
    "for i in range(n):\n",
    "    val = input(f\"Enter value for node {i+1}: \")\n",
    "    graph[i+1] = []\n",
    "\n",
    "# Input edges between nodes\n",
    "for i in range(n-1):\n",
    "    u, v = map(int, input(f\"Enter edge {i+1}: \").split())\n",
    "    graph[u].append(v)\n",
    "    graph[v].append(u)\n",
    "\n",
    "# Perform BFS starting from node 1\n",
    "visited = [False] * (n+1)\n",
    "queue = [1]\n",
    "BFS(graph, queue, visited)\n"
   ]
  },
  {
   "cell_type": "code",
   "execution_count": null,
   "id": "e2961322-cea3-4954-9030-33f03cff3246",
   "metadata": {},
   "outputs": [],
   "source": []
  }
 ],
 "metadata": {
  "kernelspec": {
   "display_name": "Python 3 (ipykernel)",
   "language": "python",
   "name": "python3"
  },
  "language_info": {
   "codemirror_mode": {
    "name": "ipython",
    "version": 3
   },
   "file_extension": ".py",
   "mimetype": "text/x-python",
   "name": "python",
   "nbconvert_exporter": "python",
   "pygments_lexer": "ipython3",
   "version": "3.10.10"
  }
 },
 "nbformat": 4,
 "nbformat_minor": 5
}
